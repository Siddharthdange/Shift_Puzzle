{
 "cells": [
  {
   "cell_type": "markdown",
   "metadata": {},
   "source": [
    "\n",
    "# Puzzle Game "
   ]
  },
  {
   "cell_type": "code",
   "execution_count": 33,
   "metadata": {},
   "outputs": [],
   "source": [
    "import sys\n",
    "import random\n",
    "import pygame"
   ]
  },
  {
   "cell_type": "code",
   "execution_count": 34,
   "metadata": {},
   "outputs": [],
   "source": [
    "IMAGE_FILE = \"puzzle game duck image python.jpg\" \n",
    "IMAGE_SIZE = (800, 600)\n",
    "TILE_WIDTH = 200\n",
    "TILE_HEIGHT = 200\n",
    "COLUMNS = 4\n",
    "ROWS = 3\n"
   ]
  },
  {
   "cell_type": "code",
   "execution_count": 35,
   "metadata": {},
   "outputs": [
    {
     "data": {
      "text/plain": [
       "<rect(0, 0, 1, 200)>"
      ]
     },
     "execution_count": 35,
     "metadata": {},
     "output_type": "execute_result"
    }
   ],
   "source": [
    "\n",
    "# bottom right corner contains no tile\n",
    "EMPTY_TILE = (COLUMNS-1, ROWS-1)   \n",
    "\n",
    "BLACK = (0, 0, 0)\n",
    "\n",
    "# horizontal and vertical borders for tiles\n",
    "hor_border = pygame.Surface((TILE_WIDTH, 1))\n",
    "hor_border.fill(BLACK)\n",
    "ver_border = pygame.Surface((1, TILE_HEIGHT))\n",
    "ver_border.fill(BLACK)\n"
   ]
  },
  {
   "cell_type": "code",
   "execution_count": 36,
   "metadata": {},
   "outputs": [
    {
     "data": {
      "text/plain": [
       "<rect(0, 0, 200, 200)>"
      ]
     },
     "execution_count": 36,
     "metadata": {},
     "output_type": "execute_result"
    }
   ],
   "source": [
    "\n",
    "# load the image and divide up in tiles\n",
    "# putting borders on each tile also adds them to the full image\n",
    "image = pygame.image.load(r\"C:\\Users\\Siddharth dange\\Desktop\\puzzle game duck image python.jpg\")\n",
    "tiles = {}\n",
    "for c in range(COLUMNS) :\n",
    "    for r in range(ROWS) :\n",
    "        tile = image.subsurface (\n",
    "            c*TILE_WIDTH, r*TILE_HEIGHT, \n",
    "            TILE_WIDTH, TILE_HEIGHT)\n",
    "        tiles [(c, r)] = tile\n",
    "        if (c, r) != EMPTY_TILE:\n",
    "            tile.blit(hor_border, (0, 0))\n",
    "            tile.blit(hor_border, (0, TILE_HEIGHT-1))\n",
    "            tile.blit(ver_border, (0, 0))\n",
    "            tile.blit(ver_border, (TILE_WIDTH-1, 0))\n",
    "            # make the corners a bit rounded\n",
    "            tile.set_at((1, 1), BLACK)\n",
    "            tile.set_at((1, TILE_HEIGHT-2), BLACK)\n",
    "            tile.set_at((TILE_WIDTH-2, 1), BLACK)\n",
    "            tile.set_at((TILE_WIDTH-2, TILE_HEIGHT-2), BLACK)\n",
    "tiles[EMPTY_TILE].fill(BLACK)\n"
   ]
  },
  {
   "cell_type": "code",
   "execution_count": 37,
   "metadata": {},
   "outputs": [
    {
     "ename": "SystemExit",
     "evalue": "",
     "output_type": "error",
     "traceback": [
      "An exception has occurred, use %tb to see the full traceback.\n",
      "\u001b[1;31mSystemExit\u001b[0m\n"
     ]
    }
   ],
   "source": [
    "# keep track of which tile is in which position\n",
    "state = {(col, row): (col, row) \n",
    "            for col in range(COLUMNS) for row in range(ROWS)}\n",
    "\n",
    "# keep track of the position of the empty tyle\n",
    "(emptyc, emptyr) = EMPTY_TILE\n",
    "\n",
    "# start game and display the completed puzzle\n",
    "pygame.init()\n",
    "display = pygame.display.set_mode(IMAGE_SIZE)\n",
    "pygame.display.set_caption(\"shift-puzzle\")\n",
    "display.blit (image, (0, 0))\n",
    "pygame.display.flip()\n",
    "\n",
    "# swap a tile (c, r) with the neighbouring (emptyc, emptyr) tile\n",
    "def shift (c, r) :\n",
    "    global emptyc, emptyr \n",
    "    display.blit(\n",
    "        tiles[state[(c, r)]],\n",
    "        (emptyc*TILE_WIDTH, emptyr*TILE_HEIGHT))\n",
    "    display.blit(\n",
    "        tiles[EMPTY_TILE],\n",
    "        (c*TILE_WIDTH, r*TILE_HEIGHT))\n",
    "    state[(emptyc, emptyr)] = state[(c, r)]\n",
    "    state[(c, r)] = EMPTY_TILE\n",
    "    (emptyc, emptyr) = (c, r)\n",
    "    pygame.display.flip()\n",
    "    \n",
    "    \n",
    "# shuffle the puzzle by making some random shift moves\n",
    "def shuffle() :\n",
    "    global emptyc, emptyr\n",
    "    # keep track of last shuffling direction to avoid \"undo\" shuffle moves\n",
    "    last_r = 0 \n",
    "    for i in range(75):\n",
    "        # slow down shuffling for visual effect\n",
    "        pygame.time.delay(50)\n",
    "        while True:\n",
    "            # pick a random direction and make a shuffling move\n",
    "            # if that is possible in that direction\n",
    "            r = random.randint(1, 4)\n",
    "            if (last_r + r == 5):\n",
    "                # don't undo the last shuffling move\n",
    "                continue\n",
    "            if r == 1 and (emptyc > 0):\n",
    "                shift(emptyc - 1, emptyr) # shift left\n",
    "            elif r == 4 and (emptyc < COLUMNS - 1):\n",
    "                shift(emptyc + 1, emptyr) # shift right\n",
    "            elif r == 2 and (emptyr > 0):\n",
    "                shift(emptyc, emptyr - 1) # shift up\n",
    "            elif r == 3 and (emptyr < ROWS - 1):\n",
    "                shift(emptyc, emptyr + 1) # shift down\n",
    "            else:\n",
    "                # the random shuffle move didn't fit in that direction  \n",
    "                continue\n",
    "            last_r=r\n",
    "            break # a shuffling move was made\n",
    "\n",
    "\n",
    "# process mouse clicks \n",
    "at_start = True\n",
    "showing_solution = False\n",
    "while True:\n",
    "    event = pygame.event.wait()\n",
    "    if event.type == pygame.QUIT:\n",
    "        pygame.quit()\n",
    "        sys.exit()\n",
    "    elif event.type == pygame.MOUSEBUTTONDOWN :\n",
    "        if at_start:\n",
    "            # shuffle after the first mouse click\n",
    "            shuffle()\n",
    "            at_start = False\n",
    "        elif event.dict['button'] == 1:\n",
    "            # mouse left button: move if next to the empty tile\n",
    "            mouse_pos = pygame.mouse.get_pos()\n",
    "            c = mouse_pos[0] / TILE_WIDTH\n",
    "            r = mouse_pos[1] / TILE_HEIGHT\n",
    "            if (    (abs(c-emptyc) == 1 and r == emptyr) or  \n",
    "                    (abs(r-emptyr) == 1 and c == emptyc)):\n",
    "                shift (c, r)\n",
    "        elif event.dict['button'] == 3:\n",
    "            # mouse right button: show solution image\n",
    "            saved_image = display.copy()\n",
    "            display.blit(image, (0, 0))\n",
    "            pygame.display.flip()\n",
    "            showing_solution = True\n",
    "    elif showing_solution and (event.type == pygame.MOUSEBUTTONUP):\n",
    "        # stop showing the solution\n",
    "        display.blit (saved_image, (0, 0))\n",
    "        pygame.display.flip()\n",
    "        showing_solution = False\n",
    "        "
   ]
  },
  {
   "cell_type": "code",
   "execution_count": null,
   "metadata": {},
   "outputs": [],
   "source": []
  },
  {
   "cell_type": "code",
   "execution_count": null,
   "metadata": {},
   "outputs": [],
   "source": []
  }
 ],
 "metadata": {
  "kernelspec": {
   "display_name": "Python 3",
   "language": "python",
   "name": "python3"
  },
  "language_info": {
   "codemirror_mode": {
    "name": "ipython",
    "version": 3
   },
   "file_extension": ".py",
   "mimetype": "text/x-python",
   "name": "python",
   "nbconvert_exporter": "python",
   "pygments_lexer": "ipython3",
   "version": "3.7.6"
  }
 },
 "nbformat": 4,
 "nbformat_minor": 4
}
